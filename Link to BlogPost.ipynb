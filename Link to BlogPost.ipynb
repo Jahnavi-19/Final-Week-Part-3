{
 "cells": [
  {
   "cell_type": "markdown",
   "metadata": {},
   "source": [
    "https://github.com/Jahnavi-19/Final-Week-Capstone-Project-Part-1.git\n",
    "\n",
    "IBM Watson Studio - Project Report Link: https://eu-gb.dataplatform.cloud.ibm.com/analytics/notebooks/v2/f19f82af-cc9a-4e46-9c0c-41d17204d841/view?access_token=f95b1a10e7d54830dc65fc223fc02fa81ce1b2de5ccce9901c6de7458b1ab859\n",
    "\n",
    "\n",
    "IBM Watson Studio - https://eu-gb.dataplatform.cloud.ibm.com/analytics/notebooks/v2/92a5a935-0436-4b89-942e-81c89b65b4ee/view?access_token=ad58f325757bfc28d5279ea219383625bba0ba8d9ce99c2726cfe4ef05be66c4\n"
   ]
  },
  {
   "cell_type": "code",
   "execution_count": null,
   "metadata": {},
   "outputs": [],
   "source": []
  }
 ],
 "metadata": {
  "kernelspec": {
   "display_name": "Python 3",
   "language": "python",
   "name": "python3"
  },
  "language_info": {
   "codemirror_mode": {
    "name": "ipython",
    "version": 3
   },
   "file_extension": ".py",
   "mimetype": "text/x-python",
   "name": "python",
   "nbconvert_exporter": "python",
   "pygments_lexer": "ipython3",
   "version": "3.7.6"
  }
 },
 "nbformat": 4,
 "nbformat_minor": 4
}
